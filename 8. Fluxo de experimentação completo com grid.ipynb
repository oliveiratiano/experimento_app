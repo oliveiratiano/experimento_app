{
 "cells": [
  {
   "cell_type": "code",
   "execution_count": 1,
   "metadata": {},
   "outputs": [
    {
     "name": "stdout",
     "output_type": "stream",
     "text": [
      "Baixando arquivo corpus. Por favor aguarde.\n"
     ]
    },
    {
     "name": "stderr",
     "output_type": "stream",
     "text": [
      "corpus_tratado.zip: 150MB [00:12, 12.1MB/s]                            \n",
      "Extraindo corpus: 100%|██████████| 40013/40013 [00:12<00:00, 3206.96it/s]\n"
     ]
    },
    {
     "name": "stdout",
     "output_type": "stream",
     "text": [
      "filtrando assuntos com frequencia minima 50\n"
     ]
    },
    {
     "name": "stderr",
     "output_type": "stream",
     "text": [
      "100%|██████████| 174/174 [00:00<00:00, 1397.59it/s]\n"
     ]
    },
    {
     "name": "stdout",
     "output_type": "stream",
     "text": [
      "filtrando assuntos com no minimo 50 palavras\n",
      "total de documentos no corpus: 168\n"
     ]
    }
   ],
   "source": [
    "from src import transformer\n",
    "from tqdm import tqdm_notebook as tqdm\n",
    "import pandas as pd\n",
    "import numpy as np\n",
    "import nltk\n",
    "import os\n",
    "%load_ext autoreload\n",
    "%autoreload 2\n",
    "transformer.extrair_corpus()\n",
    "documentos_validos = transformer.ler_documentos_validos(quantidade=1000)"
   ]
  },
  {
   "cell_type": "markdown",
   "metadata": {},
   "source": [
    "### Execução do fluxo de experimentação"
   ]
  },
  {
   "cell_type": "code",
   "execution_count": null,
   "metadata": {
    "scrolled": true
   },
   "outputs": [
    {
     "name": "stderr",
     "output_type": "stream",
     "text": [
      "tesauro_stf.csv: 2.03MB [00:00, 5.20MB/s]                            \n"
     ]
    },
    {
     "name": "stdout",
     "output_type": "stream",
     "text": [
      "Baixando arquivo w2v_skip_nilc.txt. Por favor aguarde.\n"
     ]
    },
    {
     "name": "stderr",
     "output_type": "stream",
     "text": [
      "w2v_skip_nilc.txt: 100%|█████████▉| 895M/895M [01:24<00:00, 10.6MB/s] \n"
     ]
    },
    {
     "name": "stdout",
     "output_type": "stream",
     "text": [
      "Importando w2v geral\n"
     ]
    },
    {
     "name": "stderr",
     "output_type": "stream",
     "text": [
      "2021-04-17 04:08:14,013 : INFO : loading projection weights from w2v_skip_nilc.txt\n",
      "2021-04-17 04:09:35,078 : INFO : loaded (929606, 100) matrix from w2v_skip_nilc.txt\n"
     ]
    },
    {
     "name": "stdout",
     "output_type": "stream",
     "text": [
      "Baixando arquivo ftt_skip_nilc.txt. Por favor aguarde.\n"
     ]
    },
    {
     "name": "stderr",
     "output_type": "stream",
     "text": [
      "ftt_skip_nilc.txt: 100%|█████████▉| 812M/812M [01:18<00:00, 10.3MB/s] \n"
     ]
    },
    {
     "name": "stdout",
     "output_type": "stream",
     "text": [
      "Importando ftt geral\n"
     ]
    },
    {
     "name": "stderr",
     "output_type": "stream",
     "text": [
      "2021-04-17 04:10:56,030 : INFO : loading projection weights from ftt_skip_nilc.txt\n",
      "2021-04-17 04:12:15,495 : INFO : loaded (929605, 100) matrix from ftt_skip_nilc.txt\n"
     ]
    },
    {
     "name": "stdout",
     "output_type": "stream",
     "text": [
      "Baixando arquivo glove_nilc.txt. Por favor aguarde.\n"
     ]
    },
    {
     "name": "stderr",
     "output_type": "stream",
     "text": [
      "glove_nilc.txt: 100%|█████████▉| 894M/895M [01:22<00:00, 10.9MB/s] \n"
     ]
    },
    {
     "name": "stdout",
     "output_type": "stream",
     "text": [
      "Importando glv geral\n"
     ]
    },
    {
     "name": "stderr",
     "output_type": "stream",
     "text": [
      "2021-04-17 04:13:39,848 : INFO : loading projection weights from glove_nilc.txt\n"
     ]
    }
   ],
   "source": [
    "lista_k = np.arange(2,5)\n",
    "grid_minfreqs = [0]\n",
    "grid_stopwords = [True]\n",
    "grid_ica = [True]\n",
    "grid_tesauro = [True]\n",
    "grid_dimensoes = [100]\n",
    "df = transformer.transform_param(documentos_validos, grid_minfreqs, grid_stopwords, grid_ica, grid_tesauro, grid_dimensoes, lista_k)"
   ]
  },
  {
   "cell_type": "code",
   "execution_count": null,
   "metadata": {},
   "outputs": [],
   "source": []
  }
 ],
 "metadata": {
  "kernelspec": {
   "display_name": "Python 3",
   "language": "python",
   "name": "python3"
  },
  "language_info": {
   "codemirror_mode": {
    "name": "ipython",
    "version": 3
   },
   "file_extension": ".py",
   "mimetype": "text/x-python",
   "name": "python",
   "nbconvert_exporter": "python",
   "pygments_lexer": "ipython3",
   "version": "3.7.4"
  }
 },
 "nbformat": 4,
 "nbformat_minor": 2
}
